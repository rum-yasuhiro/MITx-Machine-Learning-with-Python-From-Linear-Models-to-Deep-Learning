{
 "cells": [
  {
   "cell_type": "code",
   "execution_count": 1,
   "metadata": {},
   "outputs": [],
   "source": [
    "import numpy as np\n",
    "from mnist.part1.linear_regression import *\n",
    "from utils import *"
   ]
  },
  {
   "cell_type": "code",
   "execution_count": 2,
   "metadata": {},
   "outputs": [],
   "source": [
    "def run_linear_regression_on_MNIST(lambda_factor=1):\n",
    "    \"\"\"\n",
    "    Trains linear regression, classifies test data, computes test error on test set\n",
    "\n",
    "    Returns:\n",
    "        Final test error\n",
    "    \"\"\"\n",
    "    train_x, train_y, test_x, test_y = get_MNIST_data()\n",
    "    train_x_bias = np.hstack([np.ones([train_x.shape[0], 1]), train_x])\n",
    "    test_x_bias = np.hstack([np.ones([test_x.shape[0], 1]), test_x])\n",
    "    theta = closed_form(train_x_bias, train_y, lambda_factor)\n",
    "    test_error = compute_test_error_linear(test_x_bias, test_y, theta)\n",
    "    return test_error"
   ]
  },
  {
   "cell_type": "code",
   "execution_count": 13,
   "metadata": {},
   "outputs": [],
   "source": [
    "X = np.array([\n",
    "        [0.29396318, 0.9646095,  0.88975168, 0.56270943],\n",
    "        [0.51389297, 0.97261484, 0.82710081, 0.25832605],\n",
    "        [0.40661052, 0.10434612, 0.9183069,  0.63343907],\n",
    "        [0.36095613, 0.92229452, 0.51016249, 0.60487196],\n",
    "        [0.11700391, 0.21262994, 0.41103969, 0.28963374],\n",
    "        [0.73810169, 0.15588661, 0.04555906, 0.47200411],\n",
    "        [0.84670406, 0.37966099, 0.83708444, 0.69001799],\n",
    "        [0.99022069, 0.80467564, 0.72568276, 0.79975875],\n",
    "        [0.96679743, 0.13643714, 0.34409633, 0.62243319],\n",
    "        [0.1122617,  0.15504395, 0.09987818, 0.76723138],\n",
    "        [0.07911673, 0.78605705, 0.5899911,  0.77009439],\n",
    "        [0.298052,   0.19800977, 0.17546191, 0.75962004],\n",
    "        [0.22961984, 0.78102155, 0.54956518, 0.40736125],\n",
    "        [0.21471306, 0.52113723, 0.04357237, 0.14108573],\n",
    "        [0.46053218, 0.17108324, 0.79733026, 0.54508103],\n",
    "        [0.48342345, 0.33235893, 0.95978033, 0.79751199],\n",
    "        [0.94187024, 0.65421405, 0.53418882, 0.38076148]\n",
    "    ]\n",
    ")\n",
    "\n",
    "\n",
    "# Y = [\n",
    "#     0.33813406, 0.35323062, 0.62747751, 0.72978252, 0.79908276, 0.58114065,\n",
    "#     0.27397285, 0.6584657,  0.36212369, 0.63611488, 0.90086912, 0.4529718,\n",
    "#     0.46205551, 0.58239302, 0.07574163, 0.07167347, 0.59764841\n",
    "# ]\n"
   ]
  },
  {
   "cell_type": "code",
   "execution_count": null,
   "metadata": {},
   "outputs": [],
   "source": [
    "# lambda_factor = 0.13449310503552636\n",
    "# closed_form(X, Y, lambda_factor)"
   ]
  },
  {
   "cell_type": "code",
   "execution_count": 4,
   "metadata": {},
   "outputs": [
    {
     "data": {
      "text/plain": [
       "0.7697"
      ]
     },
     "execution_count": 4,
     "metadata": {},
     "output_type": "execute_result"
    }
   ],
   "source": [
    "run_linear_regression_on_MNIST(lambda_factor=1)"
   ]
  },
  {
   "cell_type": "code",
   "execution_count": 5,
   "metadata": {},
   "outputs": [
    {
     "data": {
      "text/plain": [
       "0.7698"
      ]
     },
     "execution_count": 5,
     "metadata": {},
     "output_type": "execute_result"
    }
   ],
   "source": [
    "run_linear_regression_on_MNIST(lambda_factor=0.1)"
   ]
  },
  {
   "cell_type": "code",
   "execution_count": 6,
   "metadata": {},
   "outputs": [
    {
     "data": {
      "text/plain": [
       "0.7702"
      ]
     },
     "execution_count": 6,
     "metadata": {},
     "output_type": "execute_result"
    }
   ],
   "source": [
    "run_linear_regression_on_MNIST(lambda_factor=0.01)"
   ]
  },
  {
   "cell_type": "code",
   "execution_count": 10,
   "metadata": {},
   "outputs": [],
   "source": [
    "from svm import one_vs_rest_svm, compute_test_error_svm"
   ]
  },
  {
   "cell_type": "code",
   "execution_count": 11,
   "metadata": {},
   "outputs": [],
   "source": [
    "def run_svm_one_vs_rest_on_MNIST():\n",
    "    \"\"\"\n",
    "    Trains svm, classifies test data, computes test error on test set\n",
    "\n",
    "    Returns:\n",
    "        Test error for the binary svm\n",
    "    \"\"\"\n",
    "    train_x, train_y, test_x, test_y = get_MNIST_data()\n",
    "    train_y[train_y != 0] = 1\n",
    "    test_y[test_y != 0] = 1\n",
    "    pred_test_y = one_vs_rest_svm(train_x, train_y, test_x)\n",
    "    test_error = compute_test_error_svm(test_y, pred_test_y)\n",
    "    return test_error"
   ]
  },
  {
   "cell_type": "code",
   "execution_count": 12,
   "metadata": {},
   "outputs": [
    {
     "data": {
      "text/plain": [
       "0.007499999999999951"
      ]
     },
     "execution_count": 12,
     "metadata": {},
     "output_type": "execute_result"
    }
   ],
   "source": [
    "run_svm_one_vs_rest_on_MNIST()"
   ]
  },
  {
   "cell_type": "code",
   "execution_count": null,
   "metadata": {},
   "outputs": [],
   "source": [
    "from softmax import compute_probabilities"
   ]
  },
  {
   "cell_type": "code",
   "execution_count": null,
   "metadata": {},
   "outputs": [],
   "source": [
    "theta = np.array([np.random.rand(17)])\n",
    "theta"
   ]
  }
 ],
 "metadata": {
  "interpreter": {
   "hash": "aa09f81cb83e006067aec7f3d5699dfa7d336a43e64a77ea0c173dff68cda388"
  },
  "kernelspec": {
   "display_name": "Python 3.6.3 64-bit ('.venv': pipenv)",
   "name": "python3"
  },
  "language_info": {
   "codemirror_mode": {
    "name": "ipython",
    "version": 3
   },
   "file_extension": ".py",
   "mimetype": "text/x-python",
   "name": "python",
   "nbconvert_exporter": "python",
   "pygments_lexer": "ipython3",
   "version": "3.6.3"
  },
  "orig_nbformat": 4
 },
 "nbformat": 4,
 "nbformat_minor": 2
}
